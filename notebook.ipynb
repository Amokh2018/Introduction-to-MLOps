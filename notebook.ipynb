{
 "cells": [
  {
   "cell_type": "markdown",
   "metadata": {},
   "source": [
    "## End-to-End Machine Learning Pipeline Using Logistic Regression with Data Analysis\n",
    "Summary:\n",
    "\n",
    "\t•\tPipeline Setup: We defined a pipeline for data preprocessing, feature engineering, and model training.\n",
    "\t•\tMultiple Models: Logistic Regression, Random Forest, and SVM models were tested.\n",
    "\t•\tHyperparameter Tuning: GridSearchCV was used to find the best model and hyperparameters.\n",
    "\t•\tModel Evaluation: The best model was evaluated on the test set, and its performance was analyzed.\n",
    "\t•\tInference Pipeline: The best model was saved and loaded into an inference pipeline, which can be deployed via an API for real-time predictions."
   ]
  },
  {
   "cell_type": "markdown",
   "metadata": {},
   "source": [
    "### 1. Installing the Libraries\n",
    "\n",
    "(If you’ve already installed these libraries, you can skip this step.)"
   ]
  },
  {
   "cell_type": "code",
   "execution_count": null,
   "metadata": {},
   "outputs": [],
   "source": [
    "# !pip install pandas numpy scikit-learn joblib flask matplotlib seaborn"
   ]
  },
  {
   "cell_type": "markdown",
   "metadata": {},
   "source": [
    "### 2. Importing the Necessary Libraries"
   ]
  },
  {
   "cell_type": "code",
   "execution_count": 1,
   "metadata": {},
   "outputs": [],
   "source": [
    "import pandas as pd\n",
    "import numpy as np\n",
    "import matplotlib.pyplot as plt\n",
    "import seaborn as sns\n",
    "from sklearn.model_selection import train_test_split, GridSearchCV\n",
    "from sklearn.pipeline import Pipeline\n",
    "from sklearn.compose import ColumnTransformer\n",
    "from sklearn.preprocessing import StandardScaler, FunctionTransformer\n",
    "from sklearn.ensemble import RandomForestClassifier\n",
    "from sklearn.linear_model import LogisticRegression\n",
    "from sklearn.svm import SVC\n",
    "from sklearn.metrics import accuracy_score, classification_report, confusion_matrix\n",
    "from joblib import dump\n"
   ]
  },
  {
   "cell_type": "markdown",
   "metadata": {},
   "source": [
    "### 3. Data Collection"
   ]
  },
  {
   "cell_type": "code",
   "execution_count": null,
   "metadata": {},
   "outputs": [],
   "source": [
    "def get_data():\n",
    "    from sklearn.datasets import load_breast_cancer\n",
    "    data = load_breast_cancer(as_frame=True)\n",
    "    df = pd.concat([data['data'], data['target']], axis=1)\n",
    "    return df\n",
    "\n",
    "# Load the Breast Cancer Wisconsin dataset\n",
    "data = get_data()\n",
    "\n",
    "# Display the first few rows\n",
    "data.head()"
   ]
  },
  {
   "cell_type": "markdown",
   "metadata": {},
   "source": [
    "### 4. Exploratory Data Analysis (EDA)\n",
    "\n",
    "Let’s perform some data analysis to understand the distribution of the features and their relationships with the target variable."
   ]
  },
  {
   "cell_type": "code",
   "execution_count": null,
   "metadata": {},
   "outputs": [],
   "source": [
    "data.columns"
   ]
  },
  {
   "cell_type": "code",
   "execution_count": null,
   "metadata": {},
   "outputs": [],
   "source": [
    "# Summary statistics\n",
    "print(data.describe())\n"
   ]
  },
  {
   "cell_type": "markdown",
   "metadata": {},
   "source": [
    "### "
   ]
  },
  {
   "cell_type": "code",
   "execution_count": null,
   "metadata": {},
   "outputs": [],
   "source": [
    "# Checking for missing values\n",
    "print(data.isnull().sum())"
   ]
  },
  {
   "cell_type": "code",
   "execution_count": null,
   "metadata": {},
   "outputs": [],
   "source": [
    "# Distribution of the target variable\n",
    "sns.countplot(x=data['target'])\n",
    "plt.title('Distribution of Target Variable (Malignant vs Benign)')\n",
    "plt.show()\n"
   ]
  },
  {
   "cell_type": "markdown",
   "metadata": {},
   "source": [
    "#### Mutual information and feature importance:\n",
    "- mutual_info_classif: This function calculates the mutual information between each feature and the target, which helps in identifying how much information each feature contributes to predicting the target.\n",
    "- Visualization: The code creates a bar plot to visualize the importance of each feature based on mutual information scores."
   ]
  },
  {
   "cell_type": "code",
   "execution_count": null,
   "metadata": {},
   "outputs": [],
   "source": [
    "from sklearn.feature_selection import mutual_info_classif\n",
    "\n",
    "# Split the data into features and target\n",
    "X = data.drop(\"target\", axis=1)\n",
    "y = data[\"target\"]\n",
    "\n",
    "def Show_Feature_Score(X,y):\n",
    "    # Compute the mutual information scores\n",
    "    mi_scores = mutual_info_classif(X, y, random_state=42)\n",
    "\n",
    "    # Create a DataFrame to display the scores\n",
    "    mi_scores_df = pd.DataFrame({\n",
    "        'Feature': X.columns,\n",
    "        'Mutual Information': mi_scores\n",
    "    })\n",
    "\n",
    "    # Sort the DataFrame by mutual information scores\n",
    "    mi_scores_df = mi_scores_df.sort_values(by='Mutual Information', ascending=False)\n",
    "\n",
    "    # Visualize the mutual information scores\n",
    "    plt.figure(figsize=(10, 6))\n",
    "    sns.barplot(x='Mutual Information', y='Feature', data=mi_scores_df, palette=\"viridis\")\n",
    "    plt.title('Mutual Information Scores for Each Feature')\n",
    "    plt.show()\n",
    "\n",
    "Show_Feature_Score(X,y)"
   ]
  },
  {
   "cell_type": "code",
   "execution_count": null,
   "metadata": {},
   "outputs": [],
   "source": [
    "def add_combined_feature(X):\n",
    "    X = X.copy()  # Ensure we're modifying a copy of the DataFrame\n",
    "    \n",
    "    # Example feature: combining two features\n",
    "    X['Combined_radius_texture'] = X['mean radius'] * X['mean texture']\n",
    "    \n",
    "    return X\n",
    "\n",
    "# Apply feature engineering\n",
    "X = data.drop(columns=['target'])\n",
    "y = data['target']\n",
    "X = add_combined_feature(X)\n",
    "X.columns"
   ]
  },
  {
   "cell_type": "code",
   "execution_count": null,
   "metadata": {},
   "outputs": [],
   "source": [
    "Show_Feature_Score(X,y)"
   ]
  },
  {
   "cell_type": "code",
   "execution_count": 4,
   "metadata": {},
   "outputs": [],
   "source": [
    "from sklearn.preprocessing import FunctionTransformer\n",
    "\n",
    "# Define the feature engineering and preprocessing pipeline\n",
    "preprocessing_pipeline = Pipeline([\n",
    "    ('feature_engineering', FunctionTransformer(add_combined_feature)),\n",
    "    ('scaler', StandardScaler())\n",
    "])\n",
    "\n",
    "# Define the models and their hyperparameters for GridSearchCV\n",
    "models = [\n",
    "    {\n",
    "        'classifier': [LogisticRegression(max_iter=1000)],\n",
    "        'classifier__C': [0.1, 1.0, 10]\n",
    "    },\n",
    "    {\n",
    "        'classifier': [RandomForestClassifier(random_state=42)],\n",
    "        'classifier__n_estimators': [50, 100, 200],\n",
    "        'classifier__max_depth': [None, 10, 20]\n",
    "    },\n",
    "    {\n",
    "        'classifier': [SVC()],\n",
    "        'classifier__C': [0.1, 1.0, 10],\n",
    "        'classifier__kernel': ['linear', 'rbf']\n",
    "    }\n",
    "]\n",
    "\n",
    "# Updated pipeline with additional feature engineering and data transformation steps\n",
    "training_pipeline = Pipeline(steps=[\n",
    "    ('preprocessing', preprocessing_pipeline),\n",
    "    ('classifier', LogisticRegression()) # Placeholder, will be replaced by GridSearchCV\n",
    "])\n",
    "\n",
    "# Split the data into training and testing sets\n",
    "X = data.drop(columns=['target'])\n",
    "y = data['target']\n",
    "X_train, X_test, y_train, y_test = train_test_split(X, y, test_size=0.3, random_state=42)"
   ]
  },
  {
   "cell_type": "markdown",
   "metadata": {},
   "source": [
    "#### Hyperparameter Tuning and Model Selection"
   ]
  },
  {
   "cell_type": "code",
   "execution_count": 5,
   "metadata": {},
   "outputs": [
    {
     "name": "stdout",
     "output_type": "stream",
     "text": [
      "Fitting 5 folds for each of 18 candidates, totalling 90 fits\n"
     ]
    },
    {
     "name": "stdout",
     "output_type": "stream",
     "text": [
      "Best parameters found: {'classifier': LogisticRegression(max_iter=1000), 'classifier__C': 1.0}\n",
      "Best cross-validation score: 0.97\n"
     ]
    }
   ],
   "source": [
    "# Use GridSearchCV to find the best model and hyperparameters\n",
    "grid_search = GridSearchCV(training_pipeline, models, cv=5, n_jobs=-1, verbose=1)\n",
    "grid_search.fit(X_train, y_train)\n",
    "\n",
    "# Print the best parameters and the corresponding score\n",
    "print(f\"Best parameters found: {grid_search.best_params_}\")\n",
    "print(f\"Best cross-validation score: {grid_search.best_score_:.2f}\")\n",
    "\n",
    "# Best model\n",
    "best_model = grid_search.best_estimator_"
   ]
  },
  {
   "cell_type": "markdown",
   "metadata": {},
   "source": [
    "### Evaluate the Best Model"
   ]
  },
  {
   "cell_type": "code",
   "execution_count": 6,
   "metadata": {},
   "outputs": [
    {
     "name": "stdout",
     "output_type": "stream",
     "text": [
      "Test Accuracy: 0.98\n",
      "Classification Report:\n",
      "              precision    recall  f1-score   support\n",
      "\n",
      "           0       0.97      0.98      0.98        63\n",
      "           1       0.99      0.98      0.99       108\n",
      "\n",
      "    accuracy                           0.98       171\n",
      "   macro avg       0.98      0.98      0.98       171\n",
      "weighted avg       0.98      0.98      0.98       171\n",
      "\n"
     ]
    },
    {
     "data": {
      "image/png": "[encoded data removed]",
      "text/plain": [
       "<Figure size 800x600 with 2 Axes>"
      ]
     },
     "metadata": {},
     "output_type": "display_data"
    }
   ],
   "source": [
    "# Make predictions on the test set with the best model\n",
    "y_pred = best_model.predict(X_test)\n",
    "\n",
    "# Evaluate the model's performance\n",
    "print(f\"Test Accuracy: {accuracy_score(y_test, y_pred):.2f}\")\n",
    "print(\"Classification Report:\")\n",
    "print(classification_report(y_test, y_pred))\n",
    "\n",
    "# Confusion Matrix\n",
    "conf_matrix = confusion_matrix(y_test, y_pred)\n",
    "plt.figure(figsize=(8, 6))\n",
    "sns.heatmap(conf_matrix, annot=True, fmt='d', cmap='Blues')\n",
    "plt.title('Confusion Matrix')\n",
    "plt.xlabel('Predicted')\n",
    "plt.ylabel('Actual')\n",
    "plt.show()"
   ]
  },
  {
   "cell_type": "code",
   "execution_count": 7,
   "metadata": {},
   "outputs": [
    {
     "data": {
      "text/plain": [
       "['best_cancer_model_pipeline.joblib']"
      ]
     },
     "execution_count": 7,
     "metadata": {},
     "output_type": "execute_result"
    }
   ],
   "source": [
    "# Save the best model and the preprocessing steps\n",
    "dump(best_model, 'best_cancer_model_pipeline.joblib')"
   ]
  },
  {
   "cell_type": "code",
   "execution_count": 11,
   "metadata": {},
   "outputs": [],
   "source": [
    "import joblib\n",
    "# Load the trained pipeline (including preprocessing, feature engineering, and the model)\n",
    "inference_pipeline = joblib.load('best_cancer_model_pipeline.joblib')\n",
    "\n",
    "# Define a function to make predictions\n",
    "def predict(features):\n",
    "    # Ensure the features are in the right shape (e.g., a 2D array)\n",
    "    #features = np.array(features).reshape(1, -1)\n",
    "    \n",
    "    # Use the pipeline to make a prediction\n",
    "    predictions = inference_pipeline.predict(features)\n",
    "    \n",
    "    return predictions"
   ]
  },
  {
   "cell_type": "code",
   "execution_count": 12,
   "metadata": {},
   "outputs": [
    {
     "name": "stdout",
     "output_type": "stream",
     "text": [
      "Predicted Class: [1 0 0 1 1 0 0 0 1 1 1 0 1 0 1 0 1 1 1 0 1 1 0 1 1 1 1 1 1 0 1 1 1 1 1 1 0\n",
      " 1 0 1 1 0 1 1 1 1 1 1 1 1 0 0 1 1 1 1 1 0 0 1 1 0 0 1 1 1 0 0 1 1 0 0 1 0\n",
      " 1 1 1 0 1 1 0 1 0 0 0 0 0 0 1 1 1 1 1 1 1 1 0 0 1 0 0 1 0 0 1 1 1 0 1 1 0\n",
      " 1 0 0 0 0 1 1 1 0 1 1 1 0 1 0 0 1 1 0 0 0 1 1 1 0 1 1 1 0 1 0 1 1 0 1 0 0\n",
      " 0 1 0 1 1 1 1 0 0 1 1 1 1 1 1 1 0 1 1 1 1 0 1]\n"
     ]
    }
   ],
   "source": [
    "# Example feature set for a prediction (taken from the test set)\n",
    "sample_features = X_test\n",
    "\n",
    "# Make a prediction\n",
    "prediction = predict(sample_features)\n",
    "\n",
    "print(f\"Predicted Class: {prediction}\")"
   ]
  },
  {
   "cell_type": "code",
   "execution_count": 27,
   "metadata": {},
   "outputs": [],
   "source": [
    "import requests\n",
    "import json\n",
    "\n",
    "# Define the endpoint URL\n",
    "url = 'http://localhost:5001/predict'\n",
    "\n",
    "# Example feature set for a prediction\n",
    "sample_data = {\n",
    "    'features': [17.99, 10.38, 122.8, 1001.0, 0.1184, 0.2776, 0.3001, 0.1471, 0.2419, 0.07871,\n",
    "                 1.095, 0.9053, 8.589, 153.4, 0.006399, 0.04904, 0.05373, 0.01587, 0.03003,\n",
    "                 0.006193, 25.38, 17.33, 184.6, 2019.0, 0.1622, 0.6656, 0.7119, 0.2654, 0.4601,\n",
    "                 0.1189]\n",
    "}\n",
    "sample_data = X_test.iloc[0].to_json()\n",
    "# Convert the data to JSON format\n",
    "headers = {'Content-Type': 'application/json'}\n",
    "data = json.dumps(sample_data)\n",
    "\n",
    "# Send a POST request\n",
    "response = requests.post(url, headers=headers, data=sample_data)\n",
    "\n"
   ]
  },
  {
   "cell_type": "code",
   "execution_count": 31,
   "metadata": {},
   "outputs": [
    {
     "data": {
      "text/plain": [
       "{'prediction': 1}"
      ]
     },
     "execution_count": 31,
     "metadata": {},
     "output_type": "execute_result"
    }
   ],
   "source": [
    "response.json()"
   ]
  },
  {
   "cell_type": "code",
   "execution_count": null,
   "metadata": {},
   "outputs": [],
   "source": []
  }
 ],
 "metadata": {
  "kernelspec": {
   "display_name": "MLOps-env",
   "language": "python",
   "name": "python3"
  },
  "language_info": {
   "codemirror_mode": {
    "name": "ipython",
    "version": 3
   },
   "file_extension": ".py",
   "mimetype": "text/x-python",
   "name": "python",
   "nbconvert_exporter": "python",
   "pygments_lexer": "ipython3",
   "version": "3.9.6"
  }
 },
 "nbformat": 4,
 "nbformat_minor": 2
}
